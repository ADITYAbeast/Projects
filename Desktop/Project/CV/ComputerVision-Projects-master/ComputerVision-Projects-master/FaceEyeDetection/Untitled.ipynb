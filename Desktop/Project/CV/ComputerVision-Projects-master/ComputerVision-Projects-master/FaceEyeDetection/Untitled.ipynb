{
 "cells": [
  {
   "cell_type": "code",
   "execution_count": null,
   "metadata": {},
   "outputs": [],
   "source": [
    "import cv2 \n",
    "import numpy as np\n",
    "# HAAR Cascade files\n",
    "cascade_face = 'cascades/haarcascade_frontalface_default.xml'\n",
    "cascade_eye = 'cascades/haarcascade_eye.xml'\n",
    "\n",
    "face_classifier = cv2.CascadeClassifier(cascade_face)\n",
    "eye_classifier = cv2.CascadeClassifier(cascade_eye)\n",
    "\n",
    "def face_and_eye_detector(image):\n",
    "\n",
    "# Reading images and converting to grayscale\n",
    "\tgray = cv2.cvtColor(image, cv2.COLOR_BGR2GRAY)\n",
    "\n",
    "\t# Detecting faces\n",
    "\tfaces = face_classifier.detectMultiScale(gray, 1.2, 5)\n",
    "\tfor (x, y, w, h) in faces:\n",
    "\t\tcv2.rectangle(image, (x, y), (x+w, y+h), (0,0,0), 3)\n",
    "\n",
    "\t\t# Cropping the face found\n",
    "\t\tarea_gray = gray[y:y+h, x:x+w]\n",
    "\t\tarea_original = image[y:y+h, x:x+w]\n",
    "\n",
    "\t\t# Detecting eyes\n",
    "\t\teyes = eye_classifier.detectMultiScale(area_gray)\n",
    "\t\tfor (ex, ey, ew, eh) in eyes:\n",
    "\t\t\tcv2.rectangle(area_original, (ex, ey), (ex+ew, ey+eh), (0,255,0), 2)\n",
    "\t\t\n",
    "\timage = cv2.flip(image, 1)\t\t\n",
    "\treturn image\t\t\n",
    "\n",
    "\tif faces is ():\n",
    "\t\treturn image\t\t\n",
    "\n",
    "\n",
    "capture = cv2.VideoCapture(0)\n",
    "\n",
    "while True:\n",
    "\tresponse, frame = capture.read()\n",
    "\tcv2.imshow(\"Live Face and Eye Classifier\", face_and_eye_detector(frame))\n",
    "\tif cv2.waitKey(1) & 0xFF == ord('q'):\n",
    "\t\tbreak\n",
    "\n",
    "capture.release()\n",
    "cv2.destroyAllWindows()\n",
    "\n"
   ]
  },
  {
   "cell_type": "code",
   "execution_count": null,
   "metadata": {},
   "outputs": [],
   "source": []
  }
 ],
 "metadata": {
  "kernelspec": {
   "display_name": "Python 3",
   "language": "python",
   "name": "python3"
  },
  "language_info": {
   "codemirror_mode": {
    "name": "ipython",
    "version": 3
   },
   "file_extension": ".py",
   "mimetype": "text/x-python",
   "name": "python",
   "nbconvert_exporter": "python",
   "pygments_lexer": "ipython3",
   "version": "3.7.7"
  }
 },
 "nbformat": 4,
 "nbformat_minor": 4
}
